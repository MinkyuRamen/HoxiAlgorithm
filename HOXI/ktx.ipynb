{
 "cells": [
  {
   "cell_type": "code",
   "execution_count": 41,
   "metadata": {
    "collapsed": true
   },
   "outputs": [],
   "source": [
    "import pandas as pd\n",
    "from datetime import datetime"
   ]
  },
  {
   "cell_type": "code",
   "execution_count": 37,
   "outputs": [],
   "source": [
    "time = set(\"18:31 18:22 18:45 19:05 19:14 19:33 19:44 19:48 20:08 21:11 20:52 21:01 21:24 21:52 21:59 22:05 22:12 22:26 23:02 22:48 23:23 23:49 23:50 00:11 00:21 00:27 00:41 18:59 20:00 21:05 21:32 23:09 23:37 23:37 00:11 00:37 18:59 20:08 20:33 21:32 21:59 00:11 18:39 19:28 20:51 21:46 22:29 23:32 00:11 00:23\".split())\n",
    "time = sorted(list(time))\n",
    "time.map(int)"
   ],
   "metadata": {
    "collapsed": false
   }
  },
  {
   "cell_type": "code",
   "execution_count": 46,
   "outputs": [
    {
     "name": "stdout",
     "output_type": "stream",
     "text": [
      "[datetime.datetime(1900, 1, 1, 0, 0, 11), datetime.datetime(1900, 1, 1, 0, 0, 21), datetime.datetime(1900, 1, 1, 0, 0, 23), datetime.datetime(1900, 1, 1, 0, 0, 27), datetime.datetime(1900, 1, 1, 0, 0, 37), datetime.datetime(1900, 1, 1, 0, 0, 41), datetime.datetime(1900, 1, 1, 0, 18, 22), datetime.datetime(1900, 1, 1, 0, 18, 31), datetime.datetime(1900, 1, 1, 0, 18, 39), datetime.datetime(1900, 1, 1, 0, 18, 45), datetime.datetime(1900, 1, 1, 0, 18, 59), datetime.datetime(1900, 1, 1, 0, 19, 5), datetime.datetime(1900, 1, 1, 0, 19, 14), datetime.datetime(1900, 1, 1, 0, 19, 28), datetime.datetime(1900, 1, 1, 0, 19, 33), datetime.datetime(1900, 1, 1, 0, 19, 44), datetime.datetime(1900, 1, 1, 0, 19, 48), datetime.datetime(1900, 1, 1, 0, 20), datetime.datetime(1900, 1, 1, 0, 20, 8), datetime.datetime(1900, 1, 1, 0, 20, 33), datetime.datetime(1900, 1, 1, 0, 20, 51), datetime.datetime(1900, 1, 1, 0, 20, 52), datetime.datetime(1900, 1, 1, 0, 21, 1), datetime.datetime(1900, 1, 1, 0, 21, 5), datetime.datetime(1900, 1, 1, 0, 21, 11), datetime.datetime(1900, 1, 1, 0, 21, 24), datetime.datetime(1900, 1, 1, 0, 21, 32), datetime.datetime(1900, 1, 1, 0, 21, 46), datetime.datetime(1900, 1, 1, 0, 21, 52), datetime.datetime(1900, 1, 1, 0, 21, 59), datetime.datetime(1900, 1, 1, 0, 22, 5), datetime.datetime(1900, 1, 1, 0, 22, 12), datetime.datetime(1900, 1, 1, 0, 22, 26), datetime.datetime(1900, 1, 1, 0, 22, 29), datetime.datetime(1900, 1, 1, 0, 22, 48), datetime.datetime(1900, 1, 1, 0, 23, 2), datetime.datetime(1900, 1, 1, 0, 23, 9), datetime.datetime(1900, 1, 1, 0, 23, 23), datetime.datetime(1900, 1, 1, 0, 23, 32), datetime.datetime(1900, 1, 1, 0, 23, 37), datetime.datetime(1900, 1, 1, 0, 23, 49), datetime.datetime(1900, 1, 1, 0, 23, 50)]\n"
     ]
    }
   ],
   "source": [
    "date_object = [datetime.strptime(date_string, \"%M:%S\") for date_string in time]\n",
    "print(date_object)"
   ],
   "metadata": {
    "collapsed": false
   }
  },
  {
   "cell_type": "code",
   "execution_count": 67,
   "outputs": [],
   "source": [
    "delta = [int((date_object[i]-date_object[i-1]).total_seconds()) for i in range(1,len(date_object))]"
   ],
   "metadata": {
    "collapsed": false
   }
  },
  {
   "cell_type": "code",
   "execution_count": 72,
   "outputs": [
    {
     "data": {
      "text/plain": "8.95"
     },
     "execution_count": 72,
     "metadata": {},
     "output_type": "execute_result"
    }
   ],
   "source": [
    "(sum(delta)-1061)/(len(delta)-1)"
   ],
   "metadata": {
    "collapsed": false
   }
  },
  {
   "cell_type": "code",
   "execution_count": null,
   "outputs": [],
   "source": [],
   "metadata": {
    "collapsed": false
   }
  }
 ],
 "metadata": {
  "kernelspec": {
   "display_name": "Python 3",
   "language": "python",
   "name": "python3"
  },
  "language_info": {
   "codemirror_mode": {
    "name": "ipython",
    "version": 2
   },
   "file_extension": ".py",
   "mimetype": "text/x-python",
   "name": "python",
   "nbconvert_exporter": "python",
   "pygments_lexer": "ipython2",
   "version": "2.7.6"
  }
 },
 "nbformat": 4,
 "nbformat_minor": 0
}
