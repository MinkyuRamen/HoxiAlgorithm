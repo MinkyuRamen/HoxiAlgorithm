{
 "cells": [
  {
   "cell_type": "code",
   "execution_count": 31,
   "outputs": [],
   "source": [
    "loc_info = {0: ['안암역'], 1: ['노원역'], 2: ['한양대역'], 3: ['서울역']}\n",
    "\n",
    "class settlement_algorithm():\n",
    "    def __init__(self, loc_info):\n",
    "        self.loc_info = loc_info\n",
    "\n",
    "    def individual_move(self):\n",
    "        loc_info = self.loc_info\n",
    "        # global individual_distance, individual_duration, individual_cost, addr_info, passenger_routing\n",
    "        self.individual_distance = [29321, 8867, 8932]\n",
    "        self.individual_duration = [2955, 2197, 2530]\n",
    "        self.individual_cost = [26700, 14300, 16000]\n",
    "        self.passenger_routing = ['노원역', '한양대역', '안암역', '서울역']\n",
    "        loc_info = {0: ['안암역', 127.02934916, 37.58631392], 1: ['노원역', 127.06042771, 37.65486207],  2: ['한양대역', 127.04368209, 37.55462342],  3: ['서울역', 126.96921669, 37.55320558]}\n",
    "        self.addr_info = {loc_info[i][0] : {'no': i, 'lon': loc_info[i][1], 'lat': loc_info[i][2]} for i in대 range(len(loc_info))}\n",
    "        print(\"동승 전 경로 visualization\")\n",
    "\n",
    "        return {'individual_distance':self.individual_distance, 'individual_duration':self.individual_duration, 'individual_cost':self.individual_cost}\n",
    "\n",
    "    def routing_move(self):\n",
    "        self.loc_info = loc_info\n",
    "        # global routing_distance, routing_duration, routing_cost, delay_ratio\n",
    "        self.routing_distance = [28761, 13989, 8932]\n",
    "        self.routing_duration = [5347, 3382, 2530]\n",
    "        self.routing_cost = [34500, 20100, 16000]\n",
    "        self.delay_ratio = [0.49379932356257045, 0.34216255442670535, 0.0]\n",
    "        print(\"동승 후 경로 visualization\")\n",
    "\n",
    "        return {\"routing_distance\":self.routing_distance, \"routing_duration\":self.routing_duration, \"routing_cost\":self.routing_cost, \"delay_ratio\": self.delay_ratio, 'passenger_routing': self.passenger_routing}\n",
    "\n",
    "    def settlement_optimizer(self, eplison = 0.03, gamma = 0.05, LB = 0.3, UB = 0.5):\n",
    "        import gurobipy as gp\n",
    "        from gurobipy import GRB\n",
    "        T = self.routing_cost[0]\n",
    "        eplison = eplison\n",
    "        gamma = gamma\n",
    "        LB = LB\n",
    "        UB = UB\n",
    "\n",
    "\n",
    "        I1, I2, I3 = self.individual_cost\n",
    "        R1, R2, R3 = self.delay_ratio\n",
    "\n",
    "        ## matching ALGorithm\n",
    "        try:\n",
    "          # Create a new model\n",
    "          m = gp.Model('cost_optimization1')\n",
    "          m.Params.LogToConsole = 0\n",
    "\n",
    "          # Create variables\n",
    "          alpha = m.addVar(vtype=GRB.CONTINUOUS, name='alpha')\n",
    "          beta = m.addVar(vtype=GRB.CONTINUOUS, name='beta')\n",
    "\n",
    "          # Set objective\n",
    "          m.setObjective(I1*(1-(alpha+beta*R1))+I2*(1-(alpha+beta*R2))+I3*(1-(alpha+beta*R3))-T, GRB.MINIMIZE)\n",
    "\n",
    "          # Add constraint\n",
    "          m.addConstr(max(R1,R2,R3)*beta-UB*alpha <= 0,'const_1')\n",
    "          m.addConstr(max(R1,R2,R3)*beta-LB*alpha >= 0,'const_2')\n",
    "          m.addConstr(I1*(1-(alpha+beta*R1))+I2*(1-(alpha+beta*R2))+I3*(1-(alpha+beta*R3))-T >= 0,'const_3')\n",
    "\n",
    "          m.addConstr(alpha <= 0.5)\n",
    "          m.addConstr(alpha >= 0)\n",
    "          m.addConstr(beta <= 0.5)\n",
    "          m.addConstr(beta >= 0)\n",
    "          #m.addConstr(gamma <= 1)\n",
    "\n",
    "          # Optimize model\n",
    "          m.optimize()\n",
    "\n",
    "          for v in m.getVars():\n",
    "            # print('%s : %g' % (v.varName, v.x))\n",
    "            globals()[v.varName] = v.x\n",
    "          # print('Obj : %g' % m.objVal)\n",
    "\n",
    "        except gp.GurobiError as e:\n",
    "          print('Error code ' + str(e.errno) + ': ' + str(e))\n",
    "\n",
    "        print(3)\n",
    "\n",
    "        return alpha, beta"
   ],
   "metadata": {
    "collapsed": false
   }
  },
  {
   "cell_type": "code",
   "execution_count": 32,
   "outputs": [
    {
     "name": "stdout",
     "output_type": "stream",
     "text": [
      "동승 전 경로 visualization\n",
      "\n",
      "{'individual_distance': [29321, 8867, 8932], 'individual_duration': [2955, 2197, 2530], 'individual_cost': [26700, 14300, 16000]}\n",
      "\n",
      "동승 후 경로 visualization\n",
      "\n",
      "{'routing_distance': [28761, 13989, 8932], 'routing_duration': [5347, 3382, 2530], 'routing_cost': [34500, 20100, 16000], 'delay_ratio': [0.49379932356257045, 0.34216255442670535, 0.0], 'passenger_routing': ['노원역', '한양대역', '안암역', '서울역']}\n",
      "\n",
      "3\n",
      "\n",
      "(<gurobi.Var *Awaiting Model Update*>, <gurobi.Var *Awaiting Model Update*>)\n"
     ]
    }
   ],
   "source": [
    "settlement = settlement_algorithm(loc_info)\n",
    "individual_move = settlement.individual_move()\n",
    "print()\n",
    "print(individual_move)\n",
    "print()\n",
    "routing_move = settlement.routing_move()\n",
    "print()\n",
    "print(routing_move)\n",
    "print()\n",
    "optimizer = settlement.settlement_optimizer()\n",
    "print()\n",
    "print(optimizer)"
   ],
   "metadata": {
    "collapsed": false
   }
  },
  {
   "cell_type": "code",
   "execution_count": 33,
   "outputs": [
    {
     "name": "stdout",
     "output_type": "stream",
     "text": [
      "A 33.10+9.93 => 43.03% 할인\n",
      "B 33.10+6.88 => 39.98% 할인\n",
      "C 33.10+0.00 => 33.10% 할인\n",
      "\n",
      "A 26700 원 >>> 20514 원\n",
      "B 14300 원 >>> 10551 원\n",
      "C 16000 원 >>> 10704 원\n"
     ]
    }
   ],
   "source": [
    "individual_distance = individual_move['individual_distance']\n",
    "individual_duration = individual_move['individual_duration']\n",
    "individual_cost = individual_move['individual_cost']\n",
    "\n",
    "routing_distance = routing_move['routing_distance']\n",
    "routing_duration = routing_move['routing_duration']\n",
    "routing_cost = routing_move['routing_cost']\n",
    "delay_ratio = routing_move['delay_ratio']\n",
    "\n",
    "I1, I2, I3 = individual_cost\n",
    "R1, R2, R3 = delay_ratio\n",
    "\n",
    "print(f'A {alpha*100:.2f}+{beta*R1*100:.2f} => {(alpha+beta*R1)*100:.2f}% 할인')\n",
    "print(f'B {alpha*100:.2f}+{beta*R2*100:.2f} => {(alpha+beta*R2)*100:.2f}% 할인')\n",
    "print(f'C {alpha*100:.2f}+{beta*R3*100:.2f} => {(alpha+beta*R3)*100:.2f}% 할인')\n",
    "print()\n",
    "print(f'A {I1} 원 >>> {int((1-alpha+beta*R1)*I1)} 원')\n",
    "print(f'B {I2} 원 >>> {int((1-alpha+beta*R2)*I2)} 원')\n",
    "print(f'C {I3} 원 >>> {int((1-alpha+beta*R3)*I3)} 원')\n",
    "\n",
    "routing_individual_cost = [int((1-alpha+beta*R1)*I1),int((1-alpha+beta*R2)*I2),int((1-alpha+beta*R3)*I3)]"
   ],
   "metadata": {
    "collapsed": false
   }
  },
  {
   "cell_type": "code",
   "execution_count": 34,
   "outputs": [
    {
     "name": "stdout",
     "output_type": "stream",
     "text": [
      "혼자탔을 때\n",
      "합계 : 57000 원\n",
      "['26700 원', '14300 원', '16000 원']\n",
      "['29.32 km', '8.87 km', '8.93 km']\n",
      "['49.25 분', '36.62 분', '42.17 분']\n",
      "\n",
      "동승시\n",
      "합계 : 34500 원\n",
      "['20514 원', '10551 원', '10704 원']\n",
      "['28.76 km', '13.99 km', '8.93 km']\n",
      "['89.12 분', '56.37 분', '42.17 분']\n"
     ]
    }
   ],
   "source": [
    "print('혼자탔을 때')\n",
    "print(f'합계 : {sum(individual_cost)} 원')\n",
    "print([f'{rou} 원' for rou in individual_cost])\n",
    "print([f'{rou/1000:.2f} km' for rou in individual_distance])\n",
    "print([f'{rou/60:.2f} 분' for rou in individual_duration])\n",
    "print()\n",
    "print('동승시')\n",
    "print(f'합계 : {routing_cost[0]} 원')\n",
    "print([f'{rou} 원' for rou in routing_individual_cost])\n",
    "print([f'{rou/1000:.2f} km' for rou in routing_distance])\n",
    "print([f'{rou/60:.2f} 분' for rou in routing_duration])"
   ],
   "metadata": {
    "collapsed": false
   }
  },
  {
   "cell_type": "code",
   "execution_count": null,
   "outputs": [],
   "source": [],
   "metadata": {
    "collapsed": false
   }
  }
 ],
 "metadata": {
  "kernelspec": {
   "display_name": "Python 3",
   "language": "python",
   "name": "python3"
  },
  "language_info": {
   "codemirror_mode": {
    "name": "ipython",
    "version": 2
   },
   "file_extension": ".py",
   "mimetype": "text/x-python",
   "name": "python",
   "nbconvert_exporter": "python",
   "pygments_lexer": "ipython2",
   "version": "2.7.6"
  }
 },
 "nbformat": 4,
 "nbformat_minor": 0
}
