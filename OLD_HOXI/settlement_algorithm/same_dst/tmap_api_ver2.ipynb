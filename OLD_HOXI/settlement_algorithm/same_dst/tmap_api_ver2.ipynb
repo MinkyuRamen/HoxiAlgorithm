{
 "cells": [
  {
   "cell_type": "code",
   "execution_count": 1,
   "metadata": {
    "collapsed": true
   },
   "outputs": [],
   "source": [
    "import numpy as np\n",
    "import pandas as pd\n",
    "import random as rand\n",
    "import requests\n",
    "import json\n",
    "import re\n",
    "from json import loads\n",
    "\n",
    "import matplotlib.pyplot as plt\n",
    "from matplotlib import rc\n",
    "rc('font', family='AppleGothic')\n",
    "plt.rcParams['axes.unicode_minus'] = False\n",
    "\n",
    "import math\n",
    "import gurobipy as gp\n",
    "from gurobipy import GRB"
   ]
  },
  {
   "cell_type": "markdown",
   "source": [
    "### 출발지가 같고 도착지가 다른 경우 + 탑승자가 2명& 4명인 경우도 구현한다. (ver4 추가예정)"
   ],
   "metadata": {
    "collapsed": false
   }
  },
  {
   "cell_type": "markdown",
   "source": [
    "### 주소를 입력 받으면 지오코딩api를 통해 위도 경도를 불러온 후 loc_info dictionary를 만든다. (ver3 추가예정)"
   ],
   "metadata": {
    "collapsed": false
   }
  },
  {
   "cell_type": "code",
   "execution_count": 2,
   "outputs": [
    {
     "data": {
      "text/plain": "{0: ['왕십리역', 127.03707847424529, 37.56126476715337],\n 1: ['안암역', 127.02923341883837, 37.586303813999805],\n 2: ['신이문역', 127.06738894104969, 37.60177804492183],\n 3: ['화랑대역', 127.08353499381646, 37.61982353949059]}"
     },
     "execution_count": 2,
     "metadata": {},
     "output_type": "execute_result"
    }
   ],
   "source": [
    "loc_info = {\n",
    "    0: ['왕십리역',127.03707847424529,37.56126476715337],\n",
    "    1: ['안암역',127.02923341883837,37.586303813999805],\n",
    "    2: ['신이문역',127.06738894104969,37.60177804492183],\n",
    "    3: ['화랑대역',127.08353499381646,37.61982353949059]\n",
    "}\n",
    "loc_info"
   ],
   "metadata": {
    "collapsed": false
   }
  },
  {
   "cell_type": "code",
   "execution_count": 3,
   "outputs": [
    {
     "data": {
      "text/plain": "['127.03707847424529',\n '127.02923341883837',\n '127.06738894104969',\n '127.08353499381646']"
     },
     "execution_count": 3,
     "metadata": {},
     "output_type": "execute_result"
    }
   ],
   "source": [
    "[str(loc_info[i][1]) for i in range(len(loc_info))]"
   ],
   "metadata": {
    "collapsed": false
   }
  },
  {
   "cell_type": "code",
   "execution_count": 4,
   "outputs": [],
   "source": [
    "url = \"https://apis.openapi.sk.com/tmap/matrix?version=1\"\n",
    "\n",
    "payload = {\n",
    "    \"origins\": [\n",
    "        {\n",
    "            \"lon\": str(loc_info[i][1]),\n",
    "            \"lat\": str(loc_info[i][2])\n",
    "        } for i in range(len(loc_info))\n",
    "    ],\n",
    "    \"destinations\": [\n",
    "        {\n",
    "            \"lon\": str(loc_info[i][1]),\n",
    "            \"lat\": str(loc_info[i][2])\n",
    "        } for i in range(len(loc_info))\n",
    "    ],\n",
    "    \"transportMode\": \"car\",\n",
    "    \"metric\": \"Recommendation\"\n",
    "}\n",
    "headers = {\n",
    "    \"Accept\": \"application/json\",\n",
    "    \"appKey\": \"l7xx4d23b06a733d4f2e9c5365ca49c3431a\",\n",
    "    \"Content-Type\": \"application/json\"\n",
    "}\n",
    "\n",
    "response = requests.post(url, json=payload, headers=headers)"
   ],
   "metadata": {
    "collapsed": false
   }
  },
  {
   "cell_type": "code",
   "execution_count": 5,
   "outputs": [
    {
     "data": {
      "text/plain": "{'meta': {'status': 'Ok',\n  'message': 'Ok',\n  'moduleVersion': '',\n  'mapVersion': '20230221',\n  'elapsedTime': 0,\n  'realTimeTrafficDateTime': '',\n  'patternTrafficDate': '',\n  'customizationDateTime': '',\n  'algorithm': '',\n  'metric': 'Recommendation',\n  'requestId': '8ddca8e7-d19f-45dd-b3f4-2d946a652303',\n  'gasStationPriceDateTime': '',\n  'transportMode': 'Car',\n  'avoid': []},\n 'origins': [{'link': {'linkId': '0', 'direction': 'TwoWay'},\n   'poiId': '',\n   'name': '',\n   'coordinate': {'latitude': 37.56126476715337,\n    'longitude': 127.03707847424529},\n   'rpFlag': ''},\n  {'link': {'linkId': '0', 'direction': 'TwoWay'},\n   'poiId': '',\n   'name': '',\n   'coordinate': {'latitude': 37.586303813999805,\n    'longitude': 127.02923341883837},\n   'rpFlag': ''},\n  {'link': {'linkId': '0', 'direction': 'TwoWay'},\n   'poiId': '',\n   'name': '',\n   'coordinate': {'latitude': 37.60177804492183,\n    'longitude': 127.06738894104969},\n   'rpFlag': ''},\n  {'link': {'linkId': '0', 'direction': 'TwoWay'},\n   'poiId': '',\n   'name': '',\n   'coordinate': {'latitude': 37.61982353949059,\n    'longitude': 127.08353499381646},\n   'rpFlag': ''}],\n 'destinations': [{'link': {'linkId': '0', 'direction': 'TwoWay'},\n   'poiId': '',\n   'name': '',\n   'coordinate': {'latitude': 37.56126476715337,\n    'longitude': 127.03707847424529},\n   'rpFlag': ''},\n  {'link': {'linkId': '0', 'direction': 'TwoWay'},\n   'poiId': '',\n   'name': '',\n   'coordinate': {'latitude': 37.586303813999805,\n    'longitude': 127.02923341883837},\n   'rpFlag': ''},\n  {'link': {'linkId': '0', 'direction': 'TwoWay'},\n   'poiId': '',\n   'name': '',\n   'coordinate': {'latitude': 37.60177804492183,\n    'longitude': 127.06738894104969},\n   'rpFlag': ''},\n  {'link': {'linkId': '0', 'direction': 'TwoWay'},\n   'poiId': '',\n   'name': '',\n   'coordinate': {'latitude': 37.61982353949059,\n    'longitude': 127.08353499381646},\n   'rpFlag': ''}],\n 'matrixRoutes': [{'status': 'Ok',\n   'originIndex': 0,\n   'destinationIndex': 0,\n   'cost': 0,\n   'duration': 0,\n   'distance': 0.0,\n   'toll': False},\n  {'status': 'Ok',\n   'originIndex': 0,\n   'destinationIndex': 1,\n   'cost': 0,\n   'duration': 929,\n   'distance': 3203.2,\n   'toll': False},\n  {'status': 'Ok',\n   'originIndex': 0,\n   'destinationIndex': 2,\n   'cost': 0,\n   'duration': 1207,\n   'distance': 6677.3,\n   'toll': False},\n  {'status': 'Ok',\n   'originIndex': 0,\n   'destinationIndex': 3,\n   'cost': 0,\n   'duration': 1534,\n   'distance': 14251.1,\n   'toll': False},\n  {'status': 'Ok',\n   'originIndex': 1,\n   'destinationIndex': 0,\n   'cost': 0,\n   'duration': 875,\n   'distance': 3953.1,\n   'toll': False},\n  {'status': 'Ok',\n   'originIndex': 1,\n   'destinationIndex': 1,\n   'cost': 0,\n   'duration': 0,\n   'distance': 0.0,\n   'toll': False},\n  {'status': 'Ok',\n   'originIndex': 1,\n   'destinationIndex': 2,\n   'cost': 0,\n   'duration': 1030,\n   'distance': 5233.2,\n   'toll': False},\n  {'status': 'Ok',\n   'originIndex': 1,\n   'destinationIndex': 3,\n   'cost': 0,\n   'duration': 1203,\n   'distance': 7804.1,\n   'toll': False},\n  {'status': 'Ok',\n   'originIndex': 2,\n   'destinationIndex': 0,\n   'cost': 0,\n   'duration': 1123,\n   'distance': 6842.0,\n   'toll': False},\n  {'status': 'Ok',\n   'originIndex': 2,\n   'destinationIndex': 1,\n   'cost': 0,\n   'duration': 806,\n   'distance': 5213.2,\n   'toll': False},\n  {'status': 'Ok',\n   'originIndex': 2,\n   'destinationIndex': 2,\n   'cost': 0,\n   'duration': 0,\n   'distance': 0.0,\n   'toll': False},\n  {'status': 'Ok',\n   'originIndex': 2,\n   'destinationIndex': 3,\n   'cost': 0,\n   'duration': 839,\n   'distance': 6373.5,\n   'toll': False},\n  {'status': 'Ok',\n   'originIndex': 3,\n   'destinationIndex': 0,\n   'cost': 0,\n   'duration': 1061,\n   'distance': 10072.1,\n   'toll': False},\n  {'status': 'Ok',\n   'originIndex': 3,\n   'destinationIndex': 1,\n   'cost': 0,\n   'duration': 877,\n   'distance': 7439.5,\n   'toll': False},\n  {'status': 'Ok',\n   'originIndex': 3,\n   'destinationIndex': 2,\n   'cost': 0,\n   'duration': 1106,\n   'distance': 12271.4,\n   'toll': False},\n  {'status': 'Ok',\n   'originIndex': 3,\n   'destinationIndex': 3,\n   'cost': 0,\n   'duration': 990,\n   'distance': 9220.4,\n   'toll': False}]}"
     },
     "execution_count": 5,
     "metadata": {},
     "output_type": "execute_result"
    }
   ],
   "source": [
    "jsonObj = json.loads(response.text)\n",
    "jsonObj"
   ],
   "metadata": {
    "collapsed": false
   }
  },
  {
   "cell_type": "code",
   "execution_count": 6,
   "outputs": [
    {
     "name": "stdout",
     "output_type": "stream",
     "text": [
      "      0    1     2     3\n",
      "0     0  929  1207  1534\n",
      "1   875    0  1030  1203\n",
      "2  1123  806     0   839\n",
      "3  1061  877  1106   990\n"
     ]
    }
   ],
   "source": [
    "duration_lst = []\n",
    "distance_lst = []\n",
    "for i in range(len(loc_info)**2):\n",
    "    duration_lst.append(jsonObj['matrixRoutes'][i]['duration'])\n",
    "    distance_lst.append(jsonObj['matrixRoutes'][i]['distance'])\n",
    "duration = pd.DataFrame(np.array(duration_lst).reshape(len(loc_info),len(loc_info)))\n",
    "distance = pd.DataFrame(np.array(distance_lst).reshape(len(loc_info),len(loc_info)))\n",
    "print(duration)"
   ],
   "metadata": {
    "collapsed": false
   }
  },
  {
   "cell_type": "code",
   "execution_count": 7,
   "outputs": [
    {
     "name": "stdout",
     "output_type": "stream",
     "text": [
      "{'왕십리역': {'no': 0, 'lon': 127.03707847424529, 'lat': 37.56126476715337}, '안암역': {'no': 1, 'lon': 127.02923341883837, 'lat': 37.586303813999805}, '신이문역': {'no': 2, 'lon': 127.06738894104969, 'lat': 37.60177804492183}, '화랑대역': {'no': 3, 'lon': 127.08353499381646, 'lat': 37.61982353949059}}\n"
     ]
    }
   ],
   "source": [
    "addr_info = {loc_info[i][0] : {'no': i, 'lon': loc_info[i][1], 'lat': loc_info[i][2]} for i in range(len(loc_info))}\n",
    "print(addr_info)"
   ],
   "metadata": {
    "collapsed": false
   }
  },
  {
   "cell_type": "code",
   "execution_count": 8,
   "outputs": [
    {
     "name": "stdout",
     "output_type": "stream",
     "text": [
      "dict_keys(['왕십리역', '안암역', '신이문역', '화랑대역'])\n"
     ]
    },
    {
     "data": {
      "text/plain": "<Figure size 640x480 with 1 Axes>",
      "image/png": "[encoded data removed]"
     },
     "metadata": {},
     "output_type": "display_data"
    }
   ],
   "source": [
    "# same src & diff dst + 탑승인원 3명\n",
    "def dist(addr):\n",
    "    return (addr_info[addr]['lat']**2 + addr_info[addr]['lon']**2)**1/2\n",
    "\n",
    "while(True):\n",
    "    passenger_sample = rand.sample(list(addr_info.keys()), 4)\n",
    "    a,b,c,dst = passenger_sample\n",
    "    if max(dist(a), dist(b), dist(c), dist(dst))==dist(dst) or min(dist(a), dist(b), dist(c),dist(dst))==dist(dst):\n",
    "        # if\n",
    "        break\n",
    "\n",
    "passenger_sample = addr_info.keys()\n",
    "print(passenger_sample)\n",
    "a,b,c,dst = passenger_sample\n",
    "pass_2_node = {'a': a, 'b': b, 'c': c, 'dst':dst}\n",
    "node_2_pass = {a: 'a', b: 'b', c: 'c', dst: 'dst'}\n",
    "\n",
    "lat = [addr_info[addr]['lat'] for addr in passenger_sample]\n",
    "lon = [addr_info[addr]['lon'] for addr in passenger_sample]\n",
    "addr = [f'{pas}({node_2_pass[pas]})' for pas in passenger_sample]\n",
    "\n",
    "fig, ax = plt.subplots()\n",
    "ax.scatter(lon, lat)\n",
    "for i, txt in enumerate(addr):\n",
    "    ax.annotate(txt, (lon[i], lat[i]))\n",
    "plt.show()"
   ],
   "metadata": {
    "collapsed": false
   }
  },
  {
   "cell_type": "markdown",
   "source": [
    "### 도착지는 고정 출발지 3곳중 어떻게 경유할지 정한다. (ver3 추가예정)"
   ],
   "metadata": {
    "collapsed": false
   }
  },
  {
   "cell_type": "code",
   "execution_count": 9,
   "outputs": [
    {
     "data": {
      "text/plain": "<Figure size 640x480 with 1 Axes>",
      "image/png": "[encoded data removed]"
     },
     "metadata": {},
     "output_type": "display_data"
    }
   ],
   "source": [
    "rout = [[addr,dist(addr)] for addr in passenger_sample]\n",
    "routing = {addr: {'node':node_2_pass[addr],'no':addr_info[addr]['no']} for addr,dis in rout}\n",
    "\n",
    "lat = [addr_info[rou]['lat'] for rou in routing]\n",
    "lon = [addr_info[rou]['lon'] for rou in routing]\n",
    "\n",
    "fig, ax = plt.subplots()\n",
    "ax.scatter(lon, lat)\n",
    "for i, txt in enumerate(routing):\n",
    "    try:\n",
    "        ax.plot([lon[i], lon[i+1]], [lat[i], lat[i+1]])\n",
    "    except: pass\n",
    "for i, txt in enumerate(addr):\n",
    "    ax.annotate(txt, (lon[i], lat[i]))\n",
    "plt.show()"
   ],
   "metadata": {
    "collapsed": false
   }
  },
  {
   "cell_type": "code",
   "execution_count": 10,
   "outputs": [
    {
     "name": "stdout",
     "output_type": "stream",
     "text": [
      "[0, 1, 2, 3]\n",
      "      0    1     2     3\n",
      "0     0  929  1207  1534\n",
      "1   875    0  1030  1203\n",
      "2  1123  806     0   839\n",
      "3  1061  877  1106   990\n"
     ]
    }
   ],
   "source": [
    "no_routing = [addr_info[addr]['no'] for addr in routing]\n",
    "print(no_routing)\n",
    "new_distance = distance\n",
    "new_duration = duration\n",
    "print(new_duration)"
   ],
   "metadata": {
    "collapsed": false
   }
  },
  {
   "cell_type": "markdown",
   "source": [
    "### 택시요금 크롤링하여 구현 (ver3)"
   ],
   "metadata": {
    "collapsed": false
   }
  },
  {
   "cell_type": "code",
   "execution_count": 11,
   "outputs": [
    {
     "name": "stdout",
     "output_type": "stream",
     "text": [
      "[14251.1, 7804.1, 6373.5]\n",
      "[1534, 1203, 839]\n",
      "[19553, 13528, 11223]\n"
     ]
    }
   ],
   "source": [
    "\"\"\"\n",
    "[2021년 서울 차량 통행속도 분석]에 따르면 지난해 도심 통행속도는 시속 23㎞'라는 정보를 활용해 시간을 산출하였다.\n",
    "\"\"\"\n",
    "\n",
    "def taxi_fee(meter, second):\n",
    "    pay = int(4800+(meter-1600)*100/131+(second-36/160*23)*(10/3))\n",
    "    if pay>0:\n",
    "        return pay\n",
    "    else: return int(4800)\n",
    "\n",
    "individual_distance = [new_distance.loc[no_routing[i], no_routing[-1]] for i in range(len(no_routing)-1)]\n",
    "individual_duration = [new_duration.loc[no_routing[i], no_routing[-1]] for i in range(len(no_routing)-1)]\n",
    "print(individual_distance)\n",
    "print(individual_duration)\n",
    "\n",
    "routing_distance = [new_distance.loc[no_routing[num],no_routing[num+1]] for num in range(len(no_routing)-1)]\n",
    "routing_duration = [new_duration.loc[no_routing[num],no_routing[num+1]] for num in range(len(no_routing)-1)]\n",
    "\n",
    "individual_cost = [taxi_fee(individual_distance[i],individual_duration[i]) for i in range(len(no_routing)-1)]\n",
    "print(individual_cost)\n",
    "\n",
    "total_distance = sum(routing_distance)\n",
    "total_duration = sum(routing_duration)\n",
    "\n",
    "total_cost = taxi_fee(total_distance, total_duration)\n",
    "\n",
    "routing_individual_distance = [sum(routing_distance[i:]) for i in range(len(no_routing)-1)]\n",
    "routing_individual_duration = [sum(routing_duration[i:]) for i in range(len(no_routing)-1)]\n",
    "\n",
    "delay_ratio = [(routing_individual_duration[i]-individual_duration[i])/individual_duration[i] for i in range(len(no_routing)-1)]"
   ],
   "metadata": {
    "collapsed": false
   }
  },
  {
   "cell_type": "code",
   "execution_count": 12,
   "outputs": [
    {
     "name": "stdout",
     "output_type": "stream",
     "text": [
      "Restricted license - for non-production use only - expires 2024-10-28\n",
      "Gurobi Optimizer version 10.0.1 build v10.0.1rc0 (mac64[arm])\n",
      "\n",
      "CPU model: Apple M1\n",
      "Thread count: 8 physical cores, 8 logical processors, using up to 8 threads\n",
      "\n",
      "Optimize a model with 7 rows, 2 columns and 10 nonzeros\n",
      "Model fingerprint: 0x4601e2f7\n",
      "Coefficient statistics:\n",
      "  Matrix range     [3e-01, 4e+04]\n",
      "  Objective range  [2e+04, 4e+04]\n",
      "  Bounds range     [0e+00, 0e+00]\n",
      "  RHS range        [5e-01, 2e+04]\n",
      "Presolve removed 4 rows and 0 columns\n",
      "Presolve time: 0.00s\n",
      "Presolved: 3 rows, 2 columns, 6 nonzeros\n",
      "\n",
      "Iteration    Objective       Primal Inf.    Dual Inf.      Time\n",
      "       0   -6.5860167e+03   2.572663e+01   0.000000e+00      0s\n",
      "       2    0.0000000e+00   0.000000e+00   0.000000e+00      0s\n",
      "\n",
      "Solved in 2 iterations and 0.01 seconds (0.00 work units)\n",
      "Optimal objective  0.000000000e+00\n",
      "alpha : 0.380194\n",
      "beta : 0.138422\n",
      "Obj : 0\n"
     ]
    }
   ],
   "source": [
    "I1, I2, I3 = individual_cost\n",
    "R1, R2, R3 = delay_ratio\n",
    "T = total_cost\n",
    "eplison = 0.03\n",
    "gamma = 0.05\n",
    "\n",
    "LB = 0.3\n",
    "UB = 0.5\n",
    "\n",
    "## matching ALGorithm\n",
    "try:\n",
    "  # Create a new model\n",
    "  m = gp.Model('cost_optimization1')\n",
    "\n",
    "  # Create variables\n",
    "  alpha = m.addVar(vtype=GRB.CONTINUOUS, name='alpha')\n",
    "  beta = m.addVar(vtype=GRB.CONTINUOUS, name='beta')\n",
    "\n",
    "  # Set objective\n",
    "  m.setObjective(I1*(1-(alpha+beta*R1))+I2*(1-(alpha+beta*R2))+I3*(1-(alpha+beta*R3))-T, GRB.MINIMIZE)\n",
    "\n",
    "  # Add constraint\n",
    "  m.addConstr(max(R1,R2,R3)*beta-UB*alpha <= 0,'const_1')\n",
    "  m.addConstr(max(R1,R2,R3)*beta-LB*alpha >= 0,'const_2')\n",
    "  m.addConstr(I1*(1-(alpha+beta*R1))+I2*(1-(alpha+beta*R2))+I3*(1-(alpha+beta*R3))-T >= 0,'const_3')\n",
    "\n",
    "  m.addConstr(alpha <= 0.5)\n",
    "  m.addConstr(alpha >= 0)\n",
    "  m.addConstr(beta <= 0.5)\n",
    "  m.addConstr(beta >= 0)\n",
    "  #m.addConstr(gamma <= 1)\n",
    "\n",
    "  # Optimize model\n",
    "  m.optimize()\n",
    "\n",
    "  for v in m.getVars():\n",
    "    print('%s : %g' % (v.varName, v.x))\n",
    "    globals()[v.varName] = v.x\n",
    "  print('Obj : %g' % m.objVal)\n",
    "\n",
    "except gp.GurobiError as e:\n",
    "  print('Error code ' + str(e.errno) + ': ' + str(e))"
   ],
   "metadata": {
    "collapsed": false
   }
  },
  {
   "cell_type": "code",
   "execution_count": 13,
   "outputs": [
    {
     "name": "stdout",
     "output_type": "stream",
     "text": [
      "A 38.02+11.41 => 49.43% 할인\n",
      "B 38.02+7.66 => 45.68% 할인\n",
      "C 38.02+0.00 => 38.02% 할인\n",
      "\n",
      "A 19553 원 >>> 14349 원\n",
      "B 13528 원 >>> 9421 원\n",
      "C 11223 원 >>> 6956 원\n"
     ]
    }
   ],
   "source": [
    "print(f'A {alpha*100:.2f}+{beta*R1*100:.2f} => {(alpha+beta*R1)*100:.2f}% 할인')\n",
    "print(f'B {alpha*100:.2f}+{beta*R2*100:.2f} => {(alpha+beta*R2)*100:.2f}% 할인')\n",
    "print(f'C {alpha*100:.2f}+{beta*R3*100:.2f} => {(alpha+beta*R3)*100:.2f}% 할인')\n",
    "print()\n",
    "print(f'A {I1} 원 >>> {int((1-alpha+beta*R1)*I1)} 원')\n",
    "print(f'B {I2} 원 >>> {int((1-alpha+beta*R2)*I2)} 원')\n",
    "print(f'C {I3} 원 >>> {int((1-alpha+beta*R3)*I3)} 원')\n",
    "\n",
    "routing_individual_cost = [int((1-alpha+beta*R1)*I1),int((1-alpha+beta*R2)*I2),int((1-alpha+beta*R3)*I3)]"
   ],
   "metadata": {
    "collapsed": false
   }
  },
  {
   "cell_type": "code",
   "execution_count": 16,
   "outputs": [
    {
     "name": "stdout",
     "output_type": "stream",
     "text": [
      "혼자탔을 때\n",
      "합계 : 44304 원\n",
      "['19553 원', '13528 원', '11223 원']\n",
      "['14.25 km', '7.80 km', '6.37 km']\n",
      "['25.57 분', '20.05 분', '13.98 분']\n",
      "\n",
      "동승시\n",
      "합계 : 24193 원\n",
      "['14349 원', '9421 원', '6956 원']\n",
      "['14.81 km', '11.61 km', '6.37 km']\n",
      "['46.63 분', '31.15 분', '13.98 분']\n"
     ]
    }
   ],
   "source": [
    "print('혼자탔을 때')\n",
    "print(f'합계 : {sum(individual_cost)} 원')\n",
    "print([f'{rou} 원' for rou in individual_cost])\n",
    "print([f'{rou/1000:.2f} km' for rou in individual_distance])\n",
    "print([f'{rou/60:.2f} 분' for rou in individual_duration])\n",
    "print()\n",
    "print('동승시')\n",
    "print(f'합계 : {total_cost} 원')\n",
    "print([f'{rou} 원' for rou in routing_individual_cost])\n",
    "print([f'{rou/1000:.2f} km' for rou in routing_individual_distance])\n",
    "print([f'{rou/60:.2f} 분' for rou in routing_individual_duration])"
   ],
   "metadata": {
    "collapsed": false
   }
  }
 ],
 "metadata": {
  "kernelspec": {
   "display_name": "Python 3",
   "language": "python",
   "name": "python3"
  },
  "language_info": {
   "codemirror_mode": {
    "name": "ipython",
    "version": 2
   },
   "file_extension": ".py",
   "mimetype": "text/x-python",
   "name": "python",
   "nbconvert_exporter": "python",
   "pygments_lexer": "ipython2",
   "version": "2.7.6"
  }
 },
 "nbformat": 4,
 "nbformat_minor": 0
}
