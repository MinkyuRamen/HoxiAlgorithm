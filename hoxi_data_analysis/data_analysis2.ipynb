{
 "cells": [
  {
   "cell_type": "code",
   "execution_count": 1,
   "metadata": {},
   "outputs": [],
   "source": [
    "import pandas as pd\n",
    "import numpy as np"
   ]
  },
  {
   "cell_type": "code",
   "execution_count": 12,
   "metadata": {},
   "outputs": [
    {
     "data": {
      "text/plain": [
       "Index(['타임스탬프', '성별', '나이', '최근 3개월간 열차 (KTX, SRT 등)를 얼마나 자주 탑승하셨나요?',\n",
       "       '열차 (KTX, SRT 등)에서 내린 후, 어떤 교통수단을 사용해서 목적지로 이동하시나요?',\n",
       "       '🚕 HOXI는 서울역, 용산역 등에서 목적지 방향이 비슷한 승객들끼리의 편리한 합승을 돕는 서비스입니다 🚕\\r\\n\\r\\n1️⃣ HOXI는 당신의 합승 예약 정보를 바탕으로 합승객 매칭부터 가격 및 경로 계산, 택시 호출까지 대신 해줍니다. \\r\\n2️⃣ 매칭 인원에 따라 승용차 혹은 대형 승합차를 이용할 수 있습니다.\\r\\n3️⃣ HOXI는 혼자 택시를 탈 때보다 평균 40~50% 저렴하고 최대 70%까지 저렴합니다. \\r\\n4️⃣ 합승 인원에 따라 이동 시간이 최대 5~15분까지 추가될 수 있습니다.\\r\\n\\r\\nHOXI 서비스가 있다면 사용하실 의향이 있나요?',\n",
       "       'HOXI 서비스의 최대 장점이 무엇이라고 생각하시나요?',\n",
       "       'HOXI 서비스를 사용한다면, 모르는 사람과의 합승으로 우려되는 점이 있다면 무엇인가요?',\n",
       "       'HOXI 서비스로 합승하는 사람과 하고 싶은 일이나 콘텐츠가 있다면 적어주세요!!',\n",
       "       '사용하실 의향이 없는 이유는 무엇인가요? (최대 3개 선택)',\n",
       "       '리워드 추첨 참여를 희망하시는 경우, 전화번호를 작성해주세요.\\r\\n(ex. 010-0000-0000)'],\n",
       "      dtype='object')"
      ]
     },
     "execution_count": 12,
     "metadata": {},
     "output_type": "execute_result"
    }
   ],
   "source": [
    "station = pd.read_csv('서울역학습서비스_수요조사_오프라인.csv')\n",
    "station.columns"
   ]
  },
  {
   "cell_type": "code",
   "execution_count": 22,
   "metadata": {},
   "outputs": [
    {
     "name": "stdout",
     "output_type": "stream",
     "text": [
      "나이\n",
      "열차 (KTX, SRT 등)에서 내린 후, 어떤 교통수단을 사용해서 목적지로 이동하시나요?\n",
      "🚕 HOXI는 서울역, 용산역 등에서 목적지 방향이 비슷한 승객들끼리의 편리한 합승을 돕는 서비스입니다 🚕\n",
      "\n",
      "1️⃣ HOXI는 당신의 합승 예약 정보를 바탕으로 합승객 매칭부터 가격 및 경로 계산, 택시 호출까지 대신 해줍니다. \n",
      "2️⃣ 매칭 인원에 따라 승용차 혹은 대형 승합차를 이용할 수 있습니다.\n",
      "3️⃣ HOXI는 혼자 택시를 탈 때보다 평균 40~50% 저렴하고 최대 70%까지 저렴합니다. \n",
      "4️⃣ 합승 인원에 따라 이동 시간이 최대 5~15분까지 추가될 수 있습니다.\n",
      "\n",
      "HOXI 서비스가 있다면 사용하실 의향이 있나요?\n"
     ]
    }
   ],
   "source": [
    "print(station.columns[2])\n",
    "print(station.columns[4])\n",
    "print(station.columns[5])\n",
    "age = station.iloc[:,2]\n",
    "transport = station.iloc[:,4]\n",
    "use = station.iloc[:,5]\n"
   ]
  },
  {
   "cell_type": "code",
   "execution_count": 24,
   "metadata": {},
   "outputs": [
    {
     "data": {
      "text/html": [
       "<div>\n",
       "<style scoped>\n",
       "    .dataframe tbody tr th:only-of-type {\n",
       "        vertical-align: middle;\n",
       "    }\n",
       "\n",
       "    .dataframe tbody tr th {\n",
       "        vertical-align: top;\n",
       "    }\n",
       "\n",
       "    .dataframe thead th {\n",
       "        text-align: right;\n",
       "    }\n",
       "</style>\n",
       "<table border=\"1\" class=\"dataframe\">\n",
       "  <thead>\n",
       "    <tr style=\"text-align: right;\">\n",
       "      <th></th>\n",
       "      <th>나이</th>\n",
       "      <th>교통수단</th>\n",
       "      <th>선호</th>\n",
       "    </tr>\n",
       "  </thead>\n",
       "  <tbody>\n",
       "    <tr>\n",
       "      <th>0</th>\n",
       "      <td>20대</td>\n",
       "      <td>택시</td>\n",
       "      <td>네</td>\n",
       "    </tr>\n",
       "    <tr>\n",
       "      <th>1</th>\n",
       "      <td>20대</td>\n",
       "      <td>도보</td>\n",
       "      <td>아니오</td>\n",
       "    </tr>\n",
       "    <tr>\n",
       "      <th>2</th>\n",
       "      <td>30대</td>\n",
       "      <td>버스</td>\n",
       "      <td>아니오</td>\n",
       "    </tr>\n",
       "    <tr>\n",
       "      <th>3</th>\n",
       "      <td>30대</td>\n",
       "      <td>지하철</td>\n",
       "      <td>아니오</td>\n",
       "    </tr>\n",
       "    <tr>\n",
       "      <th>4</th>\n",
       "      <td>20대</td>\n",
       "      <td>지하철</td>\n",
       "      <td>아니오</td>\n",
       "    </tr>\n",
       "  </tbody>\n",
       "</table>\n",
       "</div>"
      ],
      "text/plain": [
       "    나이 교통수단   선호\n",
       "0  20대   택시    네\n",
       "1  20대   도보  아니오\n",
       "2  30대   버스  아니오\n",
       "3  30대  지하철  아니오\n",
       "4  20대  지하철  아니오"
      ]
     },
     "execution_count": 24,
     "metadata": {},
     "output_type": "execute_result"
    }
   ],
   "source": [
    "df = pd.DataFrame({'나이':age, '교통수단':transport, '선호':use})\n",
    "df.head()"
   ]
  },
  {
   "cell_type": "code",
   "execution_count": 33,
   "metadata": {},
   "outputs": [
    {
     "data": {
      "text/html": [
       "<div>\n",
       "<style scoped>\n",
       "    .dataframe tbody tr th:only-of-type {\n",
       "        vertical-align: middle;\n",
       "    }\n",
       "\n",
       "    .dataframe tbody tr th {\n",
       "        vertical-align: top;\n",
       "    }\n",
       "\n",
       "    .dataframe thead th {\n",
       "        text-align: right;\n",
       "    }\n",
       "</style>\n",
       "<table border=\"1\" class=\"dataframe\">\n",
       "  <thead>\n",
       "    <tr style=\"text-align: right;\">\n",
       "      <th></th>\n",
       "      <th>나이</th>\n",
       "      <th>교통수단</th>\n",
       "      <th>선호</th>\n",
       "    </tr>\n",
       "  </thead>\n",
       "  <tbody>\n",
       "    <tr>\n",
       "      <th>90</th>\n",
       "      <td>20대</td>\n",
       "      <td>어떤 지역, 그 지역에 역이 두 개인 경우 어떤 역에서 하차하는냐에 따라 다릅니다만...</td>\n",
       "      <td>아니오</td>\n",
       "    </tr>\n",
       "    <tr>\n",
       "      <th>91</th>\n",
       "      <td>30대</td>\n",
       "      <td>지하철</td>\n",
       "      <td>네</td>\n",
       "    </tr>\n",
       "    <tr>\n",
       "      <th>92</th>\n",
       "      <td>20대</td>\n",
       "      <td>택시</td>\n",
       "      <td>네</td>\n",
       "    </tr>\n",
       "    <tr>\n",
       "      <th>93</th>\n",
       "      <td>20대</td>\n",
       "      <td>지하철</td>\n",
       "      <td>네</td>\n",
       "    </tr>\n",
       "    <tr>\n",
       "      <th>94</th>\n",
       "      <td>20대</td>\n",
       "      <td>버스</td>\n",
       "      <td>네</td>\n",
       "    </tr>\n",
       "  </tbody>\n",
       "</table>\n",
       "</div>"
      ],
      "text/plain": [
       "     나이                                               교통수단   선호\n",
       "90  20대  어떤 지역, 그 지역에 역이 두 개인 경우 어떤 역에서 하차하는냐에 따라 다릅니다만...  아니오\n",
       "91  30대                                                지하철    네\n",
       "92  20대                                                 택시    네\n",
       "93  20대                                                지하철    네\n",
       "94  20대                                                 버스    네"
      ]
     },
     "execution_count": 33,
     "metadata": {},
     "output_type": "execute_result"
    }
   ],
   "source": [
    "station_2030 = df.copy()\n",
    "for i in range(len(df)):\n",
    "    if df['나이'][i] != '20대' and df['나이'][i] != '30대':\n",
    "        station_2030 = station_2030.drop(i, axis=0)\n",
    "station_2030.reset_index(drop=True, inplace=True)\n",
    "station_2030.tail()"
   ]
  },
  {
   "cell_type": "code",
   "execution_count": 49,
   "metadata": {},
   "outputs": [
    {
     "name": "stdout",
     "output_type": "stream",
     "text": [
      "2030중 택시 사용하는 비율 : 27.37 %\n",
      "2030중 택시 사용하면서 혹시에 긍정적인 비율 : 21.05 %\n",
      "2030중 택시 사용하는 사람 중 혹시에 긍정적인 비율 : 76.92 %\n"
     ]
    }
   ],
   "source": [
    "cnt_target = 0\n",
    "\n",
    "for i in range(len(station_2030)):\n",
    "    if station_2030['교통수단'][i] == '택시':\n",
    "        cnt_target += 1\n",
    "print(f'2030중 택시 사용하는 비율 : {round(cnt_target/len(station_2030)*100,2)} %')\n",
    "\n",
    "cnt_target2 = 0\n",
    "\n",
    "for i in range(len(station_2030)):\n",
    "    if station_2030['교통수단'][i] == '택시' and station_2030['선호'][i] == '네':\n",
    "        cnt_target2 += 1\n",
    "print(f'2030중 택시 사용하면서 혹시에 긍정적인 비율 : {round(cnt_target2/len(station_2030)*100,2)} %')\n",
    "\n",
    "print(f'2030중 택시 사용하는 사람 중 혹시에 긍정적인 비율 : {round(cnt_target2/cnt_target*100,2)} %')"
   ]
  },
  {
   "cell_type": "code",
   "execution_count": 52,
   "metadata": {},
   "outputs": [
    {
     "name": "stdout",
     "output_type": "stream",
     "text": [
      "2030중 택시 사용안하는 비율 : 72.63 %\n",
      "2030중 택시 사용안하면서 혹시에 긍정적인 비율 : 50.53 %\n",
      "2030중 택시 사용안하는 사람 중 혹시에 긍정적인 비율 : 69.57 %\n"
     ]
    }
   ],
   "source": [
    "cnt_target3 = 0\n",
    "\n",
    "for i in range(len(station_2030)):\n",
    "    if station_2030['교통수단'][i] != '택시':\n",
    "        cnt_target3 += 1\n",
    "print(f'2030중 택시 사용안하는 비율 : {round(cnt_target3/len(station_2030)*100,2)} %')\n",
    "\n",
    "cnt_target4 = 0\n",
    "\n",
    "for i in range(len(station_2030)):\n",
    "    if station_2030['교통수단'][i] != '택시' and station_2030['선호'][i] == '네':\n",
    "        cnt_target4 += 1\n",
    "print(f'2030중 택시 사용안하면서 혹시에 긍정적인 비율 : {round(cnt_target4/len(station_2030)*100,2)} %')\n",
    "\n",
    "print(f'2030중 택시 사용안하는 사람 중 혹시에 긍정적인 비율 : {round(cnt_target4/cnt_target3*100,2)} %')"
   ]
  },
  {
   "cell_type": "code",
   "execution_count": null,
   "metadata": {},
   "outputs": [],
   "source": []
  }
 ],
 "metadata": {
  "kernelspec": {
   "display_name": "base",
   "language": "python",
   "name": "python3"
  },
  "language_info": {
   "codemirror_mode": {
    "name": "ipython",
    "version": 3
   },
   "file_extension": ".py",
   "mimetype": "text/x-python",
   "name": "python",
   "nbconvert_exporter": "python",
   "pygments_lexer": "ipython3",
   "version": "3.9.12"
  },
  "orig_nbformat": 4
 },
 "nbformat": 4,
 "nbformat_minor": 2
}
