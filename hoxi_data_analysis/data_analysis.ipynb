{
 "cells": [
  {
   "cell_type": "code",
   "execution_count": 138,
   "metadata": {},
   "outputs": [],
   "source": [
    "import pandas as pd\n",
    "import numpy as np"
   ]
  },
  {
   "cell_type": "code",
   "execution_count": 139,
   "metadata": {},
   "outputs": [],
   "source": [
    "mvp = pd.read_csv('/Users/minkyuramen/Desktop/HOXI_DATA_ANALYSIS/고연전_MVP_인터뷰.csv')"
   ]
  },
  {
   "cell_type": "code",
   "execution_count": 140,
   "metadata": {},
   "outputs": [
    {
     "name": "stdout",
     "output_type": "stream",
     "text": [
      "1-1. 평소 안암에서 심야시간에 귀가할때, 주로 어떤 방식을 사용하시나요? (복수선택 가능)\n"
     ]
    }
   ],
   "source": [
    "print(mvp.columns[1])"
   ]
  },
  {
   "cell_type": "code",
   "execution_count": 141,
   "metadata": {},
   "outputs": [
    {
     "name": "stdout",
     "output_type": "stream",
     "text": [
      "1-2.1) 심야 버스를 사용한 적이 있다면 장점이 무엇인가요? (복수선택 가능)\n",
      "1-2.2) 심야버스를 사용한 적이 있다면 단점이 무엇인가요?  (복수선택 가능)\n",
      "1-2.3) 심야버스를 타면 집까지 도착하는데 시간이 얼마나 걸리나요? ( 안암 출발 기준, 단위 : 분 )\n"
     ]
    }
   ],
   "source": [
    "print(mvp.columns[2])\n",
    "print(mvp.columns[3])\n",
    "print(mvp.columns[4])"
   ]
  },
  {
   "cell_type": "code",
   "execution_count": 142,
   "metadata": {},
   "outputs": [
    {
     "data": {
      "text/plain": [
       "14"
      ]
     },
     "execution_count": 142,
     "metadata": {},
     "output_type": "execute_result"
    }
   ],
   "source": [
    "mvp.iloc[:,4]\n",
    "bus_hour = [100,60,130,60,40,40,80,50,90,None,120,70,None,None] # 안암출발기준 버스소요시간 1\n",
    "len(bus_hour)"
   ]
  },
  {
   "cell_type": "code",
   "execution_count": 143,
   "metadata": {},
   "outputs": [
    {
     "name": "stdout",
     "output_type": "stream",
     "text": [
      "1-3.1) 심야택시를 사용한 적이 있다면 장점이 무엇인가요? (복수선택 가능)\n",
      "1-3.2) 심야택시를 사용한 적이 있다면 단점이 무엇인가요? (복수선택 가능)\n",
      "1-3.3) 심야택시를 타고 안암에서 집까지 도착하는데 시간이 대략 얼마정도 걸리나요?  ( 안암 출발 기준, 단위 : 분 )\n",
      "1-3.4) 심야택시를 타면 안암에서 집까지 도착하는데 요금이 대략 얼마정도 나오나요? \n",
      "1-3.5) 심야에 택시가 안잡혀서 기다리신 경험이 있으시다면 어디에서, 얼마나 기다려보셨나요? (안암외 지역 가능)\n",
      "1-3.6) 택시가 끝까지 안 잡힌 경우가 있으신가요? 있으시다면, 어떻게 귀가하셨나요? (안암외 지역 가능)\n"
     ]
    },
    {
     "data": {
      "text/plain": [
       "(14, 14, 14)"
      ]
     },
     "execution_count": 143,
     "metadata": {},
     "output_type": "execute_result"
    }
   ],
   "source": [
    "print(mvp.columns[5])\n",
    "print(mvp.columns[6])\n",
    "print(mvp.columns[7])\n",
    "print(mvp.columns[8])\n",
    "print(mvp.columns[9])\n",
    "print(mvp.columns[10])\n",
    "mvp.iloc[:,7]\n",
    "taxi_hour = [30,30,20,30,30,30,35,None,35,35,40,30,30,15] # 안암출발기준 택시소요시간 2\n",
    "mvp.iloc[:,8]\n",
    "taxi_pay = [15000,20000,None,22000,15000,10000,20000,None,18000,16000,30000,27000,20000,10000] # 안암출발기준 택시가격 3\n",
    "mvp.iloc[:,9]\n",
    "waiting_hour = [30,None,20,None,None,20,30,None,40,20,60,30,40,40]\n",
    "len(taxi_hour), len(taxi_pay), len(waiting_hour)"
   ]
  },
  {
   "cell_type": "code",
   "execution_count": 144,
   "metadata": {},
   "outputs": [
    {
     "name": "stdout",
     "output_type": "stream",
     "text": [
      "1-4. 심야시간 귀가시 교통편의 중요가치를 순서대로 나열해주세요. ( ex : 1-4-3-2-5 )\n",
      "\n",
      "( 1 : 귀가할 수 있다는 보장, 2 : 저렴한 비용, 3 : 소요시간, 4 : 안전 5 : 쾌적함 )\n"
     ]
    },
    {
     "data": {
      "text/plain": [
       "14"
      ]
     },
     "execution_count": 144,
     "metadata": {},
     "output_type": "execute_result"
    }
   ],
   "source": [
    "print(mvp.columns[11])\n",
    "mvp.iloc[:,11]\n",
    "prioirity = ['12345','13245','13254','12435','14253','12435','13425','23154','13425','12453','32145','13452','13245','21354'] # 교통편의 중요가치 4\n",
    "len(prioirity)"
   ]
  },
  {
   "cell_type": "code",
   "execution_count": 154,
   "metadata": {},
   "outputs": [
    {
     "name": "stdout",
     "output_type": "stream",
     "text": [
      "2-1.1)  안암에서 합승을 했을 때, 기존에 심야택시를 탔을 때의 가격보다 얼마정도 저렴해야 타실 의향이 있나요? \n",
      "\n",
      "(2-1.2에서 넘어왔다면, 해당 시간 만큼 늦어질 경우 적절한 가격 선택)\n",
      "2-1.2) 안암에서 합승을 했을 때, 심야택시를 탔을 때의 귀가시간보다 최대 몇분 정도 추가 소요되어도 타실 의향이 있나요? \n",
      "\n",
      "(2-1.1에서 넘어왔다면, 해당 가격만큼 저렴해질 경우 적절한 시간 선택)\n",
      "2-1.3) 함께 합승하는 승객이 오지 않을 경우 출발이 늦어집니다. 다른 합승자를 최대 얼마나 기다릴 수 있나요?\n"
     ]
    }
   ],
   "source": [
    "print(mvp.columns[12])\n",
    "print(mvp.columns[13])\n",
    "print(mvp.columns[14])\n",
    "mvp.iloc[:,12]\n",
    "discount = [4000,9000,3000,5000,1000,3000,2000,7000,5000,2000,10000,9000,4000,3000] # 최소 택시할인금액 5\n",
    "mvp.iloc[:,13]\n",
    "latency = [19,19,14,14,4,19,14,19,14,20,19,14,14,14] # 최대 추가시간 6\n",
    "len(latency)\n",
    "mvp.iloc[:,14]\n",
    "duration_time = [15,5,10,5,5,10,5,15,10,5,10,10,3,10] # 최대 지연시간 7"
   ]
  },
  {
   "cell_type": "code",
   "execution_count": 146,
   "metadata": {},
   "outputs": [
    {
     "name": "stdout",
     "output_type": "stream",
     "text": [
      "2-2.1) 에브리타임이나 고파스의 홍보게시물을 보고 서비스를 신청하실 때에 합승한다는 사실에 대한 거부감이 없으셨나요?\n",
      "2-2.2) 신원이 인증된 사람들과 합승하실 생각이 있나요?\n",
      "2-2.3) 개인공간이 보장되기 위해서는 최대 몇 명까지 합승하는 것이 적절하다고 생각하시나요? (9인승 카니발 차량, 자신 포함, 1명~9명 중 택 1)\n",
      "2-2.4) 신원이 인증된 사람들과 동승한다면, 어떠한 점이 불편할까요? (복수선택)\n",
      "2-2.5) 합승에 대한 불편함을 어떤 방식으로 해소할 수 있을까요? (복수 선택 가능)\n",
      "2-3.1) 지금 당장 귀가하고자 차량을 신청했을 때 최대 몇 분까지 기다리실 수 있나요? (승차거부 없이 차량을 반드시 탈 수 있다는 보장)\n",
      "2-3.2) 미리 탑승하고자 하는 시간을 말했을 경우, 원하는 시간보다 탑승 가능 시간이 지체되어도 탑승하실 건가요? 그렇다면 몇 분까지 기다리실 수 있나요? (승차거부 없이 차량을 반드시 탈 수 있다는 보장)\n"
     ]
    },
    {
     "data": {
      "text/plain": [
       "14"
      ]
     },
     "execution_count": 146,
     "metadata": {},
     "output_type": "execute_result"
    }
   ],
   "source": [
    "print(mvp.columns[15])\n",
    "print(mvp.columns[16])\n",
    "print(mvp.columns[17])\n",
    "print(mvp.columns[18])\n",
    "print(mvp.columns[19])\n",
    "print(mvp.columns[20])\n",
    "print(mvp.columns[21])\n",
    "mvp.iloc[:,17]\n",
    "passenger_num = [3,4,4,5,7,2,4,5,2,4,4,4,4,2] # 최대 동승자수 8\n",
    "len(passenger_num)\n",
    "mvp.iloc[:,20]\n",
    "realtime_waiting = [30,10,15,30,30,15,30,30,15,15,15,60,60,15] # 실시간탑승 최대 대기시간 9\n",
    "len(realtime_waiting)\n",
    "mvp.iloc[:,21]\n",
    "reservation_waiting = [30,0,10,10,15,15,15,60,15,10,15,15,10,10] # 예약탑승 최대 대기시간 10\n",
    "len(realtime_waiting)"
   ]
  },
  {
   "cell_type": "code",
   "execution_count": 147,
   "metadata": {},
   "outputs": [
    {
     "name": "stdout",
     "output_type": "stream",
     "text": [
      "3-1. 탑승하기 최소한 몇분 전까지 탑승 확정 안내 (탑승차량, 탑승위치, 예정소요시간 등) 를 받았으면 하나요?\n",
      "3-2. 귀소본능 서비스 안내를 도와 드리기 위해 상단 그림과 같은 안내문을 보내드렸습니다. 안내 서비스와 관련하여 불편한 점이 있으셨나요?\n"
     ]
    },
    {
     "data": {
      "text/plain": [
       "14"
      ]
     },
     "execution_count": 147,
     "metadata": {},
     "output_type": "execute_result"
    }
   ],
   "source": [
    "print(mvp.columns[22])\n",
    "print(mvp.columns[23])\n",
    "mvp.iloc[:,22]\n",
    "confirm_match = [20,20,10,20,10,10,20,10,15,15,15,15,20,20] # 탑승안내 확정 시간 11\n",
    "len(confirm_match)"
   ]
  },
  {
   "cell_type": "code",
   "execution_count": 148,
   "metadata": {},
   "outputs": [
    {
     "name": "stdout",
     "output_type": "stream",
     "text": [
      "4-1.1) 운행 중 누군가 새롭게 탑승하는 것에 대해 어떻게 생각하시나요? ( 소요 시간이 추가되지만, 운행 요금 감소 )\n",
      "4-1.2) 중간에 탑승자를 추가하는 것이 부정적이라면 그 이유는 무엇인가요? \n",
      "\n",
      "(기타의 경우, 구체적인 이유를 말씀해주시면 정말 감사하겠습니다)\n",
      "4-1.3) 안암에서 합승 후 중간에 새로운 탑승객이 1명이 생긴다면 기존의 가격보다 얼마정도 저렴해야 타실 의향이 있나요?\n",
      "\n",
      "(4-1.4에서 넘어왔다면, 해당 시간 만큼 늦어질 경우 적절한 가격 선택)\n",
      "4-1.4) 안암에서 합승 후 중간에 새로운 탑승객이 1명이 생긴다면, 기존보다 최대 몇분 정도 추가 소요되어도 타실 의향이 있나요?\n",
      "\n",
      "(4-1.3에서 넘어왔다면, 해당 가격만큼 저렴해질 경우 적절한 시간 선택)\n"
     ]
    }
   ],
   "source": [
    "print(mvp.columns[24])\n",
    "print(mvp.columns[25])\n",
    "print(mvp.columns[26])\n",
    "print(mvp.columns[27])"
   ]
  },
  {
   "cell_type": "code",
   "execution_count": 149,
   "metadata": {},
   "outputs": [
    {
     "name": "stdout",
     "output_type": "stream",
     "text": [
      "귀소본능팀의 서비스를 이용하지 않았던 이유는 무엇이라고 생각하나요? (복수선택 가능)\n"
     ]
    }
   ],
   "source": [
    "print(mvp.columns[28])"
   ]
  },
  {
   "cell_type": "code",
   "execution_count": 150,
   "metadata": {},
   "outputs": [
    {
     "name": "stdout",
     "output_type": "stream",
     "text": [
      "6. 귀소본능팀에게 하고 싶은말\n",
      "저희 귀소본능팀의 서비스를 사용해주셔서 정말 감사합니다.\n",
      "저희 서비스에 대해서 추가로 하시고 싶으신 말씀이 있으시면 적어주시길 바랍니다.\n"
     ]
    }
   ],
   "source": [
    "print(mvp.columns[29])"
   ]
  },
  {
   "cell_type": "code",
   "execution_count": 151,
   "metadata": {},
   "outputs": [],
   "source": [
    "bus_hour = [100,60,130,60,40,40,80,50,90,None,120,70,None,None] # 안암출발기준 버스소요시간 1\n",
    "taxi_hour = [30,30,20,30,30,30,35,None,35,35,40,30,30,15] # 안암출발기준 택시소요시간 2\n",
    "taxi_pay = [15000,20000,None,22000,15000,10000,20000,None,18000,16000,30000,27000,20000,10000] # 안암출발기준 택시가격 3\n",
    "prioirity = ['12345','13245','13254','12435','14253','12435','13425','23154','13425','12453','32145','13452','13245','21354'] # 교통편의 중요가치 4\n",
    "discount = [4000,9000,3000,5000,1000,3000,2000,7000,5000,2000,10000,9000,4000,3000] # 최소 택시할인금액 5\n",
    "latency = [19,19,14,14,4,19,14,19,14,20,19,14,14,14] # 최대 추가시간 6\n",
    "duration_time = [20,5,10,5,5,10,5,15,10,5,10,10,3,10] # 최대 지연시간 7\n",
    "passenger_num = [3,4,4,5,7,2,4,5,2,4,4,4,4,2] # 최대 동승자수 8\n",
    "realtime_waiting = [30,10,15,30,30,15,30,30,15,15,15,60,60,15] # 실시간탑승 최대 대기시간 9\n",
    "reservation_waiting = [30,0,10,10,15,15,15,60,15,10,15,15,10,10] # 예약탑승 최대 대기시간 10\n",
    "confirm_match = [20,20,10,20,10,10,20,10,15,15,15,15,20,20] # 탑승안내 확정 시간 11"
   ]
  },
  {
   "cell_type": "code",
   "execution_count": 192,
   "metadata": {},
   "outputs": [
    {
     "name": "stdout",
     "output_type": "stream",
     "text": [
      "[26.7, 45.0, None, 22.7, 6.7, 30.0, 10.0, None, 27.8, 12.5, 33.3, 33.3, 20.0, 30.0]\n",
      "[63.3, 63.3, 70.0, 46.7, 13.3, 63.3, 40.0, None, 40.0, 57.1, 47.5, 46.7, 46.7, 93.3]\n"
     ]
    },
    {
     "data": {
      "text/html": [
       "<div>\n",
       "<style scoped>\n",
       "    .dataframe tbody tr th:only-of-type {\n",
       "        vertical-align: middle;\n",
       "    }\n",
       "\n",
       "    .dataframe tbody tr th {\n",
       "        vertical-align: top;\n",
       "    }\n",
       "\n",
       "    .dataframe thead th {\n",
       "        text-align: right;\n",
       "    }\n",
       "</style>\n",
       "<table border=\"1\" class=\"dataframe\">\n",
       "  <thead>\n",
       "    <tr style=\"text-align: right;\">\n",
       "      <th></th>\n",
       "      <th>택시 소요시간</th>\n",
       "      <th>택시 가격</th>\n",
       "      <th>할인 금액</th>\n",
       "      <th>지체시간</th>\n",
       "      <th>동승자 지연시간</th>\n",
       "      <th>동승자수</th>\n",
       "      <th>탑승확정안내</th>\n",
       "      <th>최소할인금액(%)</th>\n",
       "      <th>최대지체시간(%)</th>\n",
       "    </tr>\n",
       "  </thead>\n",
       "  <tbody>\n",
       "    <tr>\n",
       "      <th>0</th>\n",
       "      <td>30.0</td>\n",
       "      <td>15000.0</td>\n",
       "      <td>4000</td>\n",
       "      <td>19</td>\n",
       "      <td>15</td>\n",
       "      <td>3</td>\n",
       "      <td>20</td>\n",
       "      <td>26.7</td>\n",
       "      <td>63.3</td>\n",
       "    </tr>\n",
       "    <tr>\n",
       "      <th>1</th>\n",
       "      <td>30.0</td>\n",
       "      <td>20000.0</td>\n",
       "      <td>9000</td>\n",
       "      <td>19</td>\n",
       "      <td>5</td>\n",
       "      <td>4</td>\n",
       "      <td>20</td>\n",
       "      <td>45.0</td>\n",
       "      <td>63.3</td>\n",
       "    </tr>\n",
       "    <tr>\n",
       "      <th>2</th>\n",
       "      <td>20.0</td>\n",
       "      <td>NaN</td>\n",
       "      <td>3000</td>\n",
       "      <td>14</td>\n",
       "      <td>10</td>\n",
       "      <td>4</td>\n",
       "      <td>10</td>\n",
       "      <td>NaN</td>\n",
       "      <td>70.0</td>\n",
       "    </tr>\n",
       "    <tr>\n",
       "      <th>3</th>\n",
       "      <td>30.0</td>\n",
       "      <td>22000.0</td>\n",
       "      <td>5000</td>\n",
       "      <td>14</td>\n",
       "      <td>5</td>\n",
       "      <td>5</td>\n",
       "      <td>20</td>\n",
       "      <td>22.7</td>\n",
       "      <td>46.7</td>\n",
       "    </tr>\n",
       "    <tr>\n",
       "      <th>4</th>\n",
       "      <td>30.0</td>\n",
       "      <td>15000.0</td>\n",
       "      <td>1000</td>\n",
       "      <td>4</td>\n",
       "      <td>5</td>\n",
       "      <td>7</td>\n",
       "      <td>10</td>\n",
       "      <td>6.7</td>\n",
       "      <td>13.3</td>\n",
       "    </tr>\n",
       "    <tr>\n",
       "      <th>5</th>\n",
       "      <td>30.0</td>\n",
       "      <td>10000.0</td>\n",
       "      <td>3000</td>\n",
       "      <td>19</td>\n",
       "      <td>10</td>\n",
       "      <td>2</td>\n",
       "      <td>10</td>\n",
       "      <td>30.0</td>\n",
       "      <td>63.3</td>\n",
       "    </tr>\n",
       "    <tr>\n",
       "      <th>6</th>\n",
       "      <td>35.0</td>\n",
       "      <td>20000.0</td>\n",
       "      <td>2000</td>\n",
       "      <td>14</td>\n",
       "      <td>5</td>\n",
       "      <td>4</td>\n",
       "      <td>20</td>\n",
       "      <td>10.0</td>\n",
       "      <td>40.0</td>\n",
       "    </tr>\n",
       "    <tr>\n",
       "      <th>7</th>\n",
       "      <td>NaN</td>\n",
       "      <td>NaN</td>\n",
       "      <td>7000</td>\n",
       "      <td>19</td>\n",
       "      <td>15</td>\n",
       "      <td>5</td>\n",
       "      <td>10</td>\n",
       "      <td>NaN</td>\n",
       "      <td>NaN</td>\n",
       "    </tr>\n",
       "    <tr>\n",
       "      <th>8</th>\n",
       "      <td>35.0</td>\n",
       "      <td>18000.0</td>\n",
       "      <td>5000</td>\n",
       "      <td>14</td>\n",
       "      <td>10</td>\n",
       "      <td>2</td>\n",
       "      <td>15</td>\n",
       "      <td>27.8</td>\n",
       "      <td>40.0</td>\n",
       "    </tr>\n",
       "    <tr>\n",
       "      <th>9</th>\n",
       "      <td>35.0</td>\n",
       "      <td>16000.0</td>\n",
       "      <td>2000</td>\n",
       "      <td>20</td>\n",
       "      <td>5</td>\n",
       "      <td>4</td>\n",
       "      <td>15</td>\n",
       "      <td>12.5</td>\n",
       "      <td>57.1</td>\n",
       "    </tr>\n",
       "    <tr>\n",
       "      <th>10</th>\n",
       "      <td>40.0</td>\n",
       "      <td>30000.0</td>\n",
       "      <td>10000</td>\n",
       "      <td>19</td>\n",
       "      <td>10</td>\n",
       "      <td>4</td>\n",
       "      <td>15</td>\n",
       "      <td>33.3</td>\n",
       "      <td>47.5</td>\n",
       "    </tr>\n",
       "    <tr>\n",
       "      <th>11</th>\n",
       "      <td>30.0</td>\n",
       "      <td>27000.0</td>\n",
       "      <td>9000</td>\n",
       "      <td>14</td>\n",
       "      <td>10</td>\n",
       "      <td>4</td>\n",
       "      <td>15</td>\n",
       "      <td>33.3</td>\n",
       "      <td>46.7</td>\n",
       "    </tr>\n",
       "    <tr>\n",
       "      <th>12</th>\n",
       "      <td>30.0</td>\n",
       "      <td>20000.0</td>\n",
       "      <td>4000</td>\n",
       "      <td>14</td>\n",
       "      <td>3</td>\n",
       "      <td>4</td>\n",
       "      <td>20</td>\n",
       "      <td>20.0</td>\n",
       "      <td>46.7</td>\n",
       "    </tr>\n",
       "    <tr>\n",
       "      <th>13</th>\n",
       "      <td>15.0</td>\n",
       "      <td>10000.0</td>\n",
       "      <td>3000</td>\n",
       "      <td>14</td>\n",
       "      <td>10</td>\n",
       "      <td>2</td>\n",
       "      <td>20</td>\n",
       "      <td>30.0</td>\n",
       "      <td>93.3</td>\n",
       "    </tr>\n",
       "  </tbody>\n",
       "</table>\n",
       "</div>"
      ],
      "text/plain": [
       "    택시 소요시간    택시 가격  할인 금액  지체시간  동승자 지연시간  동승자수  탑승확정안내  최소할인금액(%)  \\\n",
       "0      30.0  15000.0   4000    19        15     3      20       26.7   \n",
       "1      30.0  20000.0   9000    19         5     4      20       45.0   \n",
       "2      20.0      NaN   3000    14        10     4      10        NaN   \n",
       "3      30.0  22000.0   5000    14         5     5      20       22.7   \n",
       "4      30.0  15000.0   1000     4         5     7      10        6.7   \n",
       "5      30.0  10000.0   3000    19        10     2      10       30.0   \n",
       "6      35.0  20000.0   2000    14         5     4      20       10.0   \n",
       "7       NaN      NaN   7000    19        15     5      10        NaN   \n",
       "8      35.0  18000.0   5000    14        10     2      15       27.8   \n",
       "9      35.0  16000.0   2000    20         5     4      15       12.5   \n",
       "10     40.0  30000.0  10000    19        10     4      15       33.3   \n",
       "11     30.0  27000.0   9000    14        10     4      15       33.3   \n",
       "12     30.0  20000.0   4000    14         3     4      20       20.0   \n",
       "13     15.0  10000.0   3000    14        10     2      20       30.0   \n",
       "\n",
       "    최대지체시간(%)  \n",
       "0        63.3  \n",
       "1        63.3  \n",
       "2        70.0  \n",
       "3        46.7  \n",
       "4        13.3  \n",
       "5        63.3  \n",
       "6        40.0  \n",
       "7         NaN  \n",
       "8        40.0  \n",
       "9        57.1  \n",
       "10       47.5  \n",
       "11       46.7  \n",
       "12       46.7  \n",
       "13       93.3  "
      ]
     },
     "execution_count": 192,
     "metadata": {},
     "output_type": "execute_result"
    }
   ],
   "source": [
    "df = pd.DataFrame({'택시 소요시간':taxi_hour,'택시 가격':taxi_pay,'할인 금액':discount,'지체시간':latency,'동승자 지연시간':duration_time,'동승자수':passenger_num,'탑승확정안내':confirm_match})\n",
    "\n",
    "latency_per = []\n",
    "discount_per = []\n",
    "for i in range(len(df)):\n",
    "    try:\n",
    "        dis = round((discount[i]/taxi_pay[i]*100),1)\n",
    "        discount_per.append(dis)\n",
    "    except:\n",
    "        discount_per.append(None)\n",
    "    try:\n",
    "        lat = round((latency[i]/taxi_hour[i]*100),1)\n",
    "        latency_per.append(lat)\n",
    "    except:\n",
    "        latency_per.append(None)\n",
    "print(discount_per)\n",
    "print(latency_per)\n",
    "\n",
    "df['최소할인금액(%)'] = discount_per\n",
    "df['최대지체시간(%)'] = latency_per\n",
    "df"
   ]
  },
  {
   "cell_type": "code",
   "execution_count": 194,
   "metadata": {},
   "outputs": [
    {
     "name": "stdout",
     "output_type": "stream",
     "text": [
      "최소 할인금액 평균   ; 24.8 %\n",
      "최대 지연시간 평균              ; 53.2 %\n",
      "단거리(25분 이하) 지연시간 평균 ; 81.6 %\n",
      "장거리(25분 이상) 지연시간 평균 ; 48.0 %\n",
      "최대 동승자수 평균   ; 3.9 명\n",
      "동승자 확정안내      ; 15.7 분 전\n",
      "동승자 지연시간 평균 ; 8.4 분\n"
     ]
    }
   ],
   "source": [
    "def filtered_list_avg(my_list):\n",
    "    lst = [x for x in my_list if x is not None]\n",
    "    return round(sum(lst)/len(lst),1)\n",
    "\n",
    "def filtered_long_avg(lst):\n",
    "    lsst = []\n",
    "    for i in range(len(lst)):\n",
    "        if lst.iloc[i]['택시 소요시간']>25:\n",
    "            lsst.append(lst.iloc[i]['최대지체시간(%)'])\n",
    "    return round(sum(lsst)/len(lsst),1)\n",
    "\n",
    "def filtered_short_avg(lst):\n",
    "    lsst = []\n",
    "    for i in range(len(lst)):\n",
    "        if lst.iloc[i]['택시 소요시간']<25:\n",
    "            lsst.append(lst.iloc[i]['최대지체시간(%)'])\n",
    "    return round(sum(lsst)/len(lsst),1)\n",
    "\n",
    "print(f'최소 할인금액 평균   ; {filtered_list_avg(discount_per)} %')\n",
    "\n",
    "print(f'최대 지연시간 평균              ; {filtered_list_avg(latency_per)} %')\n",
    "print(f'단거리(25분 이하) 지연시간 평균 ; {filtered_short_avg(df)} %')\n",
    "print(f'장거리(25분 이상) 지연시간 평균 ; {filtered_long_avg(df)} %')\n",
    "\n",
    "\n",
    "print(f'최대 동승자수 평균   ; {round(sum(passenger_num)/len(passenger_num),1)} 명')\n",
    "print(f'동승자 확정안내      ; {round(sum(confirm_match)/len(confirm_match),1)} 분 전')\n",
    "print(f'동승자 지연시간 평균 ; {round(sum(duration_time)/len(duration_time),1)} 분')"
   ]
  },
  {
   "cell_type": "code",
   "execution_count": 172,
   "metadata": {},
   "outputs": [
    {
     "data": {
      "text/plain": [
       "30.0"
      ]
     },
     "execution_count": 172,
     "metadata": {},
     "output_type": "execute_result"
    }
   ],
   "source": [
    "df.iloc[1]['택시 소요시간']"
   ]
  },
  {
   "cell_type": "code",
   "execution_count": 213,
   "metadata": {},
   "outputs": [
    {
     "data": {
      "text/html": [
       "<div>\n",
       "<style scoped>\n",
       "    .dataframe tbody tr th:only-of-type {\n",
       "        vertical-align: middle;\n",
       "    }\n",
       "\n",
       "    .dataframe tbody tr th {\n",
       "        vertical-align: top;\n",
       "    }\n",
       "\n",
       "    .dataframe thead th {\n",
       "        text-align: right;\n",
       "    }\n",
       "</style>\n",
       "<table border=\"1\" class=\"dataframe\">\n",
       "  <thead>\n",
       "    <tr style=\"text-align: right;\">\n",
       "      <th></th>\n",
       "      <th>성별</th>\n",
       "      <th>연령</th>\n",
       "      <th>시도코드</th>\n",
       "      <th>거주시도</th>\n",
       "      <th>총 발매 수</th>\n",
       "    </tr>\n",
       "  </thead>\n",
       "  <tbody>\n",
       "    <tr>\n",
       "      <th>0</th>\n",
       "      <td>1</td>\n",
       "      <td>20대</td>\n",
       "      <td>11</td>\n",
       "      <td>서울</td>\n",
       "      <td>1909600</td>\n",
       "    </tr>\n",
       "    <tr>\n",
       "      <th>1</th>\n",
       "      <td>1</td>\n",
       "      <td>20대</td>\n",
       "      <td>26</td>\n",
       "      <td>부산</td>\n",
       "      <td>584400</td>\n",
       "    </tr>\n",
       "    <tr>\n",
       "      <th>2</th>\n",
       "      <td>1</td>\n",
       "      <td>20대</td>\n",
       "      <td>27</td>\n",
       "      <td>대구</td>\n",
       "      <td>701500</td>\n",
       "    </tr>\n",
       "    <tr>\n",
       "      <th>3</th>\n",
       "      <td>1</td>\n",
       "      <td>20대</td>\n",
       "      <td>28</td>\n",
       "      <td>인천</td>\n",
       "      <td>318200</td>\n",
       "    </tr>\n",
       "    <tr>\n",
       "      <th>4</th>\n",
       "      <td>1</td>\n",
       "      <td>20대</td>\n",
       "      <td>29</td>\n",
       "      <td>광주</td>\n",
       "      <td>187600</td>\n",
       "    </tr>\n",
       "  </tbody>\n",
       "</table>\n",
       "</div>"
      ],
      "text/plain": [
       "   성별   연령  시도코드 거주시도   총 발매 수\n",
       "0   1  20대    11   서울  1909600\n",
       "1   1  20대    26   부산   584400\n",
       "2   1  20대    27   대구   701500\n",
       "3   1  20대    28   인천   318200\n",
       "4   1  20대    29   광주   187600"
      ]
     },
     "execution_count": 213,
     "metadata": {},
     "output_type": "execute_result"
    }
   ],
   "source": [
    "train = pd.read_csv('/Users/minkyuramen/Desktop/HOXI_DATA_ANALYSIS/철도공사.csv', encoding='euc-kr')\n",
    "train.head()"
   ]
  },
  {
   "cell_type": "code",
   "execution_count": 220,
   "metadata": {},
   "outputs": [
    {
     "data": {
      "text/plain": [
       "20405900"
      ]
     },
     "execution_count": 220,
     "metadata": {},
     "output_type": "execute_result"
    }
   ],
   "source": [
    "train_seoul = train.copy()\n",
    "for i in range(len(train)):\n",
    "    if train.iloc[i]['거주시도'] != '서울':\n",
    "        train_seoul = train_seoul.drop(i, axis=0)\n",
    "train_seoul['총 발매 수'].sum()"
   ]
  },
  {
   "cell_type": "code",
   "execution_count": 229,
   "metadata": {},
   "outputs": [
    {
     "data": {
      "text/plain": [
       "0.5247354931661922"
      ]
     },
     "execution_count": 229,
     "metadata": {},
     "output_type": "execute_result"
    }
   ],
   "source": [
    "(train_seoul.iloc[0]['총 발매 수'] + train_seoul.iloc[1]['총 발매 수'] + train_seoul.iloc[6]['총 발매 수']+train_seoul.iloc[7]['총 발매 수'])/train_seoul['총 발매 수'].sum()"
   ]
  },
  {
   "cell_type": "code",
   "execution_count": null,
   "metadata": {},
   "outputs": [],
   "source": []
  }
 ],
 "metadata": {
  "kernelspec": {
   "display_name": "base",
   "language": "python",
   "name": "python3"
  },
  "language_info": {
   "codemirror_mode": {
    "name": "ipython",
    "version": 3
   },
   "file_extension": ".py",
   "mimetype": "text/x-python",
   "name": "python",
   "nbconvert_exporter": "python",
   "pygments_lexer": "ipython3",
   "version": "3.10.9"
  },
  "orig_nbformat": 4
 },
 "nbformat": 4,
 "nbformat_minor": 2
}
